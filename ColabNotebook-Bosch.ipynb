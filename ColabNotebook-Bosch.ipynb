{
  "nbformat": 4,
  "nbformat_minor": 0,
  "metadata": {
    "colab": {
      "name": "BOSCH of LUIS of Stylegan2-ada Custom Training.ipynb",
      "provenance": [],
      "private_outputs": true,
      "collapsed_sections": [],
      "toc_visible": true,
      "machine_shape": "hm",
      "include_colab_link": true
    },
    "kernelspec": {
      "name": "python3",
      "display_name": "Python 3"
    },
    "accelerator": "GPU"
  },
  "cells": [
    {
      "cell_type": "markdown",
      "metadata": {
        "id": "view-in-github",
        "colab_type": "text"
      },
      "source": [
        "<a href=\"https://colab.research.google.com/github/ekkolabs/stylegan2-ada/blob/main/ColabNotebook-Bosch.ipynb\" target=\"_parent\"><img src=\"https://colab.research.google.com/assets/colab-badge.svg\" alt=\"Open In Colab\"/></a>"
      ]
    },
    {
      "cell_type": "markdown",
      "metadata": {
        "id": "cPI5E5y0pujD"
      },
      "source": [
        "# Custom Training StyleGan2-ADA"
      ]
    },
    {
      "cell_type": "markdown",
      "metadata": {
        "id": "SI_i1MwgpzOD"
      },
      "source": [
        "StyleGAN2-ADA only work with Tensorflow 1. Run the next cell before anything else to make sure we’re using TF1 and not TF2."
      ]
    },
    {
      "cell_type": "code",
      "metadata": {
        "id": "iKYAU7Wub3WW"
      },
      "source": [
        "%tensorflow_version 1.x"
      ],
      "execution_count": null,
      "outputs": []
    },
    {
      "cell_type": "code",
      "metadata": {
        "id": "51ei6d5kxVDm"
      },
      "source": [
        "!nvidia-smi"
      ],
      "execution_count": null,
      "outputs": []
    },
    {
      "cell_type": "markdown",
      "metadata": {
        "id": "5YcUMPQp6ipP"
      },
      "source": [
        "## Install Repo to Google Drive\n",
        "\n",
        "Colab is a little funky with training. I’ve found the best way to do this is to install the repo directly into your Google Drive folder.\n",
        "\n",
        "First, mount your Drive to the Colab notebook: "
      ]
    },
    {
      "cell_type": "code",
      "metadata": {
        "id": "pxxYlEKI9Gis"
      },
      "source": [
        "from google.colab import drive\n",
        "drive.mount('/content/drive')"
      ],
      "execution_count": null,
      "outputs": []
    },
    {
      "cell_type": "markdown",
      "metadata": {
        "id": "epV6TDzAjox1"
      },
      "source": [
        "Next, run this cell. If you’re already installed the repo, it will skip the installation process and change into the repo’s directory. If you haven’t installed it, it will install all the files necessary."
      ]
    },
    {
      "cell_type": "code",
      "metadata": {
        "id": "8HX77jscX2zV"
      },
      "source": [
        "#import os\n",
        "#if os.path.isdir(\"/content/drive/My Drive/colab-sg2-ada\"):\n",
        "#    %cd \"/content/drive/My Drive/colab-sg2-ada/stylegan2-ada\"\n",
        "#else:\n",
        "if 1:\n",
        "    #install script\n",
        "    %cd \"/content/drive/My Drive/\"\n",
        "    !mkdir colab-sg2-ada\n",
        "    %cd colab-sg2-ada\n",
        "    !git clone https://github.com/dvschultz/stylegan2-ada\n",
        "    %cd stylegan2-ada\n",
        "    !mkdir downloads\n",
        "    !mkdir datasets"
      ],
      "execution_count": null,
      "outputs": []
    },
    {
      "cell_type": "code",
      "metadata": {
        "id": "G7oj_kBaemol"
      },
      "source": [
        "%cd \"/content/drive/My Drive/colab-sg2-ada/stylegan2-ada\"\n",
        "!git config --global user.name \"test\"\n",
        "!git config --global user.email \"test@test.com\"\n",
        "!git fetch origin\n",
        "!git checkout origin/main -- train.py"
      ],
      "execution_count": null,
      "outputs": []
    },
    {
      "cell_type": "code",
      "metadata": {
        "id": "_gxiNe3weSYY"
      },
      "source": [
        "#IF RAW STUFF!git checkout 6d8f14ed886dc969f1fb5c68aeafb93e34836f2b\n",
        "%cd \"/content/drive/My Drive/colab-sg2-ada/\"\n",
        "#!git clone https://github.com/dvschultz/stylegan2-ada\n",
        "%cd \"/content/drive/My Drive/colab-sg2-ada/stylegan2-ada\"\n",
        "!git checkout 6d8f14ed886dc969f1fb5c68aeafb93e34836f2b\n"
      ],
      "execution_count": null,
      "outputs": []
    },
    {
      "cell_type": "markdown",
      "metadata": {
        "id": "HeS9tDvt61VG"
      },
      "source": [
        "## Convert dataset to .tfrecords"
      ]
    },
    {
      "cell_type": "markdown",
      "metadata": {
        "id": "_Q58MJbckLUc"
      },
      "source": [
        "**Note: You only need to do this once per dataset. If you have already run this and are returning to conntinue training, skip these cells.**\n",
        "\n",
        "Next we need to convert our image dataset to a format that StyleGAN2-ADA can read from. There are two options here. You can upload your dataset directly to Colab (as a zipped file), or you can upload it to Drive directly and read it from there."
      ]
    },
    {
      "cell_type": "code",
      "metadata": {
        "id": "8JUP51nJdEjz"
      },
      "source": [
        "#if you manually uploaded your dataset to Colab, unzip it\n",
        "zip_path = \"/content/drive/My\\ Drive/mlart/pera.zip\"\n",
        "\n",
        "!unzip {zip_path} -d \"/content/drive/My Drive/mlart/pera/\""
      ],
      "execution_count": null,
      "outputs": []
    },
    {
      "cell_type": "markdown",
      "metadata": {
        "id": "D0QH0nzjlbEE"
      },
      "source": [
        "Now that your image dataset is uploaded, we need to convert it to the `.tfrecords` format.\n",
        "\n",
        "Depending on the resolution of your images and how many you have, this can take a while."
      ]
    },
    {
      "cell_type": "code",
      "metadata": {
        "id": "p33D_8bNgvql"
      },
      "source": [
        "!pip install python-resize-image\n",
        "#update this to the path to your image folder\n",
        "source_path = \"/content/drive/My Drive/colab-sg2-ada/stylegan2-ada/datasets/bosch/\"\n",
        "\n",
        "\n",
        "\n",
        "\n",
        "\n",
        "\n",
        "\n",
        "\n",
        "from PIL import Image\n",
        "\n",
        "from resizeimage import resizeimage\n",
        "\n",
        "\n",
        "for f in os.listdir(source_path):\n",
        "  if f.endswith('.jpg'):\n",
        "    with open(os.path.join(source_path,f), 'r+b') as f1:\n",
        "        with Image.open(f1) as image:\n",
        "            try:\n",
        "              cover = resizeimage.resize_crop(image, [1024, 1024])\n",
        "            except:\n",
        "              print(f)\n",
        "              os.remove(os.path.join(source_path,f))\n",
        "              cover.save(os.path.join(source_path,f), image.format)"
      ],
      "execution_count": null,
      "outputs": []
    },
    {
      "cell_type": "code",
      "metadata": {
        "id": "TROuY2MwA-7O"
      },
      "source": [
        "#\n",
        "#display image size:\n",
        "#\n",
        "dataset_path = \"/content/drive/My Drive/mlart/ando\"\n",
        "\n",
        "import cv2\n",
        "\n",
        "\n",
        "for i,f in enumerate(os.listdir(dataset_path)):\n",
        "  im = cv2.imread(os.path.join(dataset_path,f))\n",
        "  #print(f,im.shape)\n",
        "  w,h,c = im.shape\n",
        "  if w != 1024 or h != 1024:\n",
        "      print(f)"
      ],
      "execution_count": null,
      "outputs": []
    },
    {
      "cell_type": "code",
      "metadata": {
        "id": "0rtXb3XnnmdV"
      },
      "source": [
        "#os.remove('/content/drive/My Drive/mlart/pera/jquery.min.js.download')\n",
        "#!rm -rf \"/content/drive/My Drive/colab-sg2-ada/stylegan2-ada-2\"\n",
        "#!rm -rf \"./datasets/ando\"\n",
        "#!cp -r \"/content/drive/My Drive/mlart/ando\" \"/content/drive/My Drive/mlart/ando2\" \n",
        "\n"
      ],
      "execution_count": null,
      "outputs": []
    },
    {
      "cell_type": "code",
      "metadata": {
        "id": "Hi9gmou2ydsr"
      },
      "source": [
        "import os\n",
        "dataset_path = \"/content/drive/My Drive/mlart/ando\"\n",
        "\n",
        "for i,f in enumerate(os.listdir(dataset_path)):\n",
        "  os.rename(os.path.join(dataset_path,f),os.path.join(dataset_path,str(i)+\".jpg\"))\n"
      ],
      "execution_count": null,
      "outputs": []
    },
    {
      "cell_type": "code",
      "metadata": {
        "id": "T-BZHhBe7AvO"
      },
      "source": [
        "#update this to the path to your image folder\n",
        "dataset_path = \"/content/drive/My\\ Drive/mlart/ando\"\n",
        "#give your dataset a name\n",
        "dataset_name = \"ando\"\n",
        "\n",
        "#you don't need to edit anything here\n",
        "!python dataset_tool.py create_from_images_raw ./datasets/{dataset_name} {dataset_path}"
      ],
      "execution_count": null,
      "outputs": []
    },
    {
      "cell_type": "markdown",
      "metadata": {
        "id": "8DvTupHzP2s_"
      },
      "source": [
        "## Train a custom model\n",
        "\n",
        "We’re ready to start training! There are numerous arguments to training, what’s listed below are the most popular options. To see all the options, run the following cell."
      ]
    },
    {
      "cell_type": "code",
      "metadata": {
        "id": "Fxu7CA0Qb1Yd"
      },
      "source": [
        "!python train.py --help"
      ],
      "execution_count": null,
      "outputs": []
    },
    {
      "cell_type": "code",
      "metadata": {
        "id": "jOftFoyiDU3s"
      },
      "source": [
        "%cd \"/content/drive/My Drive/colab-sg2-ada/stylegan2-ada\"\n",
        "#this name must EXACTLY match the dataset name you used when creating the .tfrecords file\n",
        "dataset_name = \"bosch\"\n",
        "#how often should the model generate samples and a .pkl file\n",
        "snapshot_count = 4\n",
        "#should the images be mirrored left to right?\n",
        "mirrored = True\n",
        "#should the images be mirrored top to bottom?\n",
        "mirroredY = False\n",
        "#metrics? \n",
        "metric_list = None\n",
        "#augments\n",
        "augs = \"bg\"\n",
        "\n",
        "#raw\n",
        "use_raw = True\n",
        "\n",
        "#\n",
        "# this is the most important cell to update\n",
        "#\n",
        "# running it for the first time? set it to ffhq(+resolution)\n",
        "# resuming? get the path to your latest .pkl file and use that\n",
        "#resume_from = \"ffhq1024\"\n",
        "#resume_from = \"ffhq1024\" #\n",
        "resume_from = \"/content/drive/My\\ Drive/colab-sg2-ada/stylegan2-ada/results/00005-bosch-mirror-11gb-gpu-bg-resumeffhq1024/network-snapshot-000064.pkl\"\n",
        "#\"/content/drive/My\\ Drive/colab-sg2-ada/stylegan2-ada/results/00005-pera-mirror-11gb-gpu-bg-resumecustom/network-snapshot-000032.pkl\"\n",
        "#DEFAULT CFG\n",
        "config = \"11gb-gpu\"\n",
        "\n",
        "\n",
        "#don't edit this unless you know what you're doing :)\n",
        "\n",
        "!python train.py --outdir ./results --snap={snapshot_count} --cfg={config} --data=./datasets/{dataset_name} --augpipe={augs} --mirror={mirrored} --mirrory={mirroredY} --metrics={metric_list} --resume={resume_from} --use-raw={use_raw}"
      ],
      "execution_count": null,
      "outputs": []
    },
    {
      "cell_type": "markdown",
      "metadata": {
        "id": "lohotw1FqC54"
      },
      "source": [
        "### While it’s training...\n",
        "**Once the above cell is running you should be training!**\n",
        "\n",
        "Don’t close this tab! Colab needs to be open and running in order to continue training. Every ~15min or so a new line should get added to your output, indicated its still training. Depending on you `snapshot_count` setting you should see the results folder in your Google drive folder fill with both samples (`fakesXXXXXx.jpg`) and model weights (`network-snapshot-XXXXXX.pkl`). The samples are worth looking at while it trains but don’t get too worried about each individual sample.\n",
        "\n",
        "If you chose a metric, you will also see scores for each snapshot. Don’t obsess over these! they are a guide, it can go up or down slightly for each snapshot. What you want to see is a gradual lowering of the score over time.\n",
        "\n",
        "Once Colab shuts off, you can Reconnect the notebook and re-run every cell from top to bottom. Make sure you update the `resume_from` path to continue training from the latest model."
      ]
    },
    {
      "cell_type": "code",
      "metadata": {
        "id": "UZR4ireZE6JF"
      },
      "source": [
        "!python generate.py --help"
      ],
      "execution_count": null,
      "outputs": []
    },
    {
      "cell_type": "code",
      "metadata": {
        "id": "lFA4gr59_FH9"
      },
      "source": [
        "!python generate.py lerp-video --outdir=out --seeds=0-40  --network=\"/content/drive/My Drive/colab-sg2-ada/stylegan2-ada/results/00006-pera-mirror-11gb-gpu-bg-resumecustom/network-snapshot-000256.pkl\""
      ],
      "execution_count": null,
      "outputs": []
    },
    {
      "cell_type": "code",
      "metadata": {
        "id": "5RffhVUDIgRg"
      },
      "source": [
        "!python generate.py --outdir=out --dlatents=out/dlatents.npz --network=\"/content/drive/My Drive/colab-sg2-ada/stylegan2-ada/results/00006-pera-mirror-11gb-gpu-bg-resumecustom/network-snapshot-000256.pkl\""
      ],
      "execution_count": null,
      "outputs": []
    },
    {
      "cell_type": "code",
      "metadata": {
        "id": "QrkNFJ1mIf7i"
      },
      "source": [
        "!python generate.py generate-latent-walk --outdir=out --seeds=0-10  --network=\"/content/drive/My Drive/colab-sg2-ada/stylegan2-ada/results/00006-pera-mirror-11gb-gpu-bg-resumecustom/network-snapshot-000256.pkl\""
      ],
      "execution_count": null,
      "outputs": []
    },
    {
      "cell_type": "code",
      "metadata": {
        "id": "GfHmkBRaI9QW"
      },
      "source": [
        "!python generate.py truncation-traversal --trunc=1 --outdir=out --network=\"/content/drive/My Drive/colab-sg2-ada/stylegan2-ada/results/00006-pera-mirror-11gb-gpu-bg-resumecustom/network-snapshot-000256.pkl\""
      ],
      "execution_count": null,
      "outputs": []
    },
    {
      "cell_type": "code",
      "metadata": {
        "id": "9bJdi0PHJ1vE"
      },
      "source": [
        "!python aydao_flesh_digressions.py --pkl \"/content/drive/My Drive/colab-sg2-ada/stylegan2-ada/results/00006-pera-mirror-11gb-gpu-bg-resumecustom/network-snapshot-000256.pkl\""
      ],
      "execution_count": null,
      "outputs": []
    },
    {
      "cell_type": "code",
      "metadata": {
        "id": "tmAfsCDyRwhD"
      },
      "source": [
        "%cd \"/content/drive/My Drive/colab-sg2-ada/stylegan2-ada\"\n",
        "\n",
        "network_pkl=\"/content/drive/My\\ Drive/mlart/pkl/bosch-ffhq-128.pkl\"\n",
        "\n",
        "!pip install opensimplex\n",
        "\n",
        "!python generate.py generate-latent-walk --trunc=0.8 --frames=240 --seeds=83,72,83 --walk-type=\"line-w\" --network={network_pkl}\n"
      ],
      "execution_count": null,
      "outputs": []
    }
  ]
}
